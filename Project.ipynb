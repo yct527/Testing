{
 "cells": [
  {
   "cell_type": "code",
   "execution_count": 1,
   "metadata": {},
   "outputs": [],
   "source": [
    "from bs4 import BeautifulSoup as bs"
   ]
  },
  {
   "cell_type": "code",
   "execution_count": 2,
   "metadata": {},
   "outputs": [],
   "source": [
    "import requests"
   ]
  },
  {
   "cell_type": "code",
   "execution_count": 3,
   "metadata": {},
   "outputs": [],
   "source": [
    "import pandas as pd"
   ]
  },
  {
   "cell_type": "code",
   "execution_count": 4,
   "metadata": {},
   "outputs": [],
   "source": [
    "import numpy as np"
   ]
  },
  {
   "cell_type": "code",
   "execution_count": 5,
   "metadata": {},
   "outputs": [],
   "source": [
    "import matplotlib.pyplot as plt"
   ]
  },
  {
   "cell_type": "code",
   "execution_count": 6,
   "metadata": {},
   "outputs": [],
   "source": [
    "import seaborn as sns"
   ]
  },
  {
   "cell_type": "markdown",
   "metadata": {},
   "source": [
    "Web scraping hardware (game platforms) sales data from VGChartz.com"
   ]
  },
  {
   "cell_type": "code",
   "execution_count": 7,
   "metadata": {},
   "outputs": [],
   "source": [
    "r = requests.get('https://www.vgchartz.com/analysis/platform_totals/Hardware/Global/')"
   ]
  },
  {
   "cell_type": "code",
   "execution_count": 8,
   "metadata": {},
   "outputs": [],
   "source": [
    "vg_sales = bs(r.content, 'lxml')"
   ]
  },
  {
   "cell_type": "code",
   "execution_count": 9,
   "metadata": {},
   "outputs": [],
   "source": [
    "table = vg_sales.find(\"table\", { \"id\" : \"myTable\" })"
   ]
  },
  {
   "cell_type": "code",
   "execution_count": 10,
   "metadata": {
    "collapsed": true,
    "jupyter": {
     "outputs_hidden": true
    }
   },
   "outputs": [
    {
     "data": {
      "text/plain": [
       "<html><body><p>Pos\n",
       "Platform\n",
       "North America\n",
       "Europe\n",
       "Japan\n",
       "Rest of World\n",
       "Global\n",
       "\n",
       "\n",
       "\n",
       "\n",
       "1\n",
       "PlayStation 2 (PS2)\n",
       "53.65\n",
       "55.28\n",
       "23.18\n",
       "25.57\n",
       "157.68\n",
       "\n",
       "\n",
       "2\n",
       "Nintendo DS (DS)\n",
       "57.39\n",
       "52.07\n",
       "33.01\n",
       "12.43\n",
       "154.90\n",
       "\n",
       "\n",
       "3\n",
       "Game Boy (GB)\n",
       "43.18\n",
       "40.05\n",
       "32.47\n",
       "2.99\n",
       "118.69\n",
       "\n",
       "\n",
       "4\n",
       "PlayStation 4 (PS4)\n",
       "38.13\n",
       "48.08\n",
       "9.36\n",
       "19.99\n",
       "115.56\n",
       "\n",
       "\n",
       "5\n",
       "PlayStation (PS)\n",
       "40.78\n",
       "31.09\n",
       "21.59\n",
       "9.04\n",
       "102.50\n",
       "\n",
       "\n",
       "6\n",
       "Wii (Wii)\n",
       "45.51\n",
       "33.88\n",
       "12.77\n",
       "9.48\n",
       "101.64\n",
       "\n",
       "\n",
       "7\n",
       "PlayStation 3 (PS3)\n",
       "29.42\n",
       "34.99\n",
       "10.47\n",
       "12.53\n",
       "87.41\n",
       "\n",
       "\n",
       "8\n",
       "Xbox 360 (X360)\n",
       "49.11\n",
       "25.87\n",
       "1.66\n",
       "9.16\n",
       "85.80\n",
       "\n",
       "\n",
       "9\n",
       "Nintendo Switch (NS)\n",
       "31.98\n",
       "22.11\n",
       "19.82\n",
       "11.37\n",
       "85.28\n",
       "\n",
       "\n",
       "10\n",
       "Game Boy Advance (GBA)\n",
       "40.39\n",
       "21.31\n",
       "16.96\n",
       "2.85\n",
       "81.51\n",
       "\n",
       "\n",
       "11\n",
       "PlayStation Portable (PSP)\n",
       "21.41\n",
       "24.41\n",
       "20.01\n",
       "15.26\n",
       "81.09\n",
       "\n",
       "\n",
       "12\n",
       "Nintendo 3DS (3DS)\n",
       "25.77\n",
       "21.07\n",
       "24.65\n",
       "4.44\n",
       "75.93\n",
       "\n",
       "\n",
       "13\n",
       "Nintendo Entertainment System (NES)\n",
       "33.49\n",
       "8.30\n",
       "19.35\n",
       "0.77\n",
       "61.91\n",
       "\n",
       "\n",
       "14\n",
       "Xbox One (XOne)\n",
       "32.12\n",
       "12.39\n",
       "0.12\n",
       "5.46\n",
       "50.09\n",
       "\n",
       "\n",
       "15\n",
       "Super Nintendo Entertainment System (SNES)\n",
       "22.88\n",
       "8.15\n",
       "17.17\n",
       "0.90\n",
       "49.10\n",
       "\n",
       "\n",
       "16\n",
       "Nintendo 64 (N64)\n",
       "20.11\n",
       "6.35\n",
       "5.54\n",
       "0.93\n",
       "32.93\n",
       "\n",
       "\n",
       "17\n",
       "Sega Genesis (GEN)\n",
       "16.98\n",
       "8.39\n",
       "3.58\n",
       "0.59\n",
       "29.54\n",
       "\n",
       "\n",
       "18\n",
       "Atari 2600 (2600)\n",
       "23.54\n",
       "3.35\n",
       "0.00\n",
       "0.75\n",
       "27.64\n",
       "\n",
       "\n",
       "19\n",
       "Xbox (XB)\n",
       "15.77\n",
       "7.17\n",
       "0.53\n",
       "1.18\n",
       "24.65\n",
       "\n",
       "\n",
       "20\n",
       "GameCube (GC)\n",
       "12.55\n",
       "4.44\n",
       "4.04\n",
       "0.71\n",
       "21.74\n",
       "\n",
       "\n",
       "21\n",
       "PlayStation Vita (PSV)\n",
       "2.64\n",
       "5.24\n",
       "5.92\n",
       "2.41\n",
       "16.21\n",
       "\n",
       "\n",
       "22\n",
       "Wii U (WiiU)\n",
       "6.23\n",
       "3.54\n",
       "3.33\n",
       "0.87\n",
       "13.97\n",
       "\n",
       "\n",
       "23\n",
       "GameGear (GG)\n",
       "5.40\n",
       "3.23\n",
       "1.78\n",
       "0.21\n",
       "10.62\n",
       "\n",
       "\n",
       "24\n",
       "Sega Saturn (SAT)\n",
       "1.83\n",
       "1.12\n",
       "5.80\n",
       "0.07\n",
       "8.82\n",
       "\n",
       "\n",
       "25\n",
       "PlayStation 5 (PS5)\n",
       "3.63\n",
       "2.81\n",
       "0.72\n",
       "1.06\n",
       "8.22\n",
       "\n",
       "\n",
       "26\n",
       "Dreamcast (DC)\n",
       "3.90\n",
       "1.91\n",
       "2.25\n",
       "0.14\n",
       "8.20\n",
       "\n",
       "\n",
       "27\n",
       "Xbox Series X/S (XS)\n",
       "2.73\n",
       "1.44\n",
       "0.04\n",
       "0.69\n",
       "4.90\n",
       "\n",
       "\n",
       "28\n",
       "Atari 7800 (7800)\n",
       "4.30\n",
       "0.00\n",
       "0.00\n",
       "0.00\n",
       "4.30\n",
       "\n",
       "\n",
       "29\n",
       "WonderSwan (WS)\n",
       "0.00\n",
       "0.00\n",
       "1.12\n",
       "0.00\n",
       "1.12\n",
       "\n",
       "\n",
       "30\n",
       "3DO Interactive Multiplayer (3DO)\n",
       "0.00\n",
       "0.00\n",
       "0.00\n",
       "0.00\n",
       "0.00\n",
       "\n",
       "\n",
       "31\n",
       "Neo Geo (NG)\n",
       "0.00\n",
       "0.00\n",
       "0.00\n",
       "0.00\n",
       "0.00\n",
       "\n",
       "\n",
       "32\n",
       "iOS (iOS)\n",
       "0.00\n",
       "0.00\n",
       "0.00\n",
       "0.00\n",
       "0.00\n",
       "\n",
       "\n",
       "33\n",
       "PC-FX (PCFX)\n",
       "0.00\n",
       "0.00\n",
       "0.00\n",
       "0.00\n",
       "0.00\n",
       "\n",
       "\n",
       "34\n",
       "Sega CD (SCD)\n",
       "0.00\n",
       "0.00\n",
       "0.00\n",
       "0.00\n",
       "0.00\n",
       "\n",
       "\n",
       "35\n",
       "Microsoft Windows (PC)\n",
       "0.00\n",
       "0.00\n",
       "0.00\n",
       "0.00\n",
       "0.00\n",
       "\n",
       "\n",
       "36\n",
       "TurboGrafx-16 (TG16)\n",
       "0.00\n",
       "0.00\n",
       "0.00\n",
       "0.00\n",
       "0.00\n",
       "\n",
       "\n",
       "</p></body></html>"
      ]
     },
     "execution_count": 10,
     "metadata": {},
     "output_type": "execute_result"
    }
   ],
   "source": [
    "bs(table.text)"
   ]
  },
  {
   "cell_type": "code",
   "execution_count": 11,
   "metadata": {},
   "outputs": [],
   "source": [
    "table_body = table.find('tbody')"
   ]
  },
  {
   "cell_type": "code",
   "execution_count": 12,
   "metadata": {},
   "outputs": [],
   "source": [
    "data = []"
   ]
  },
  {
   "cell_type": "code",
   "execution_count": 13,
   "metadata": {},
   "outputs": [],
   "source": [
    "rows = table_body.find_all('tr')"
   ]
  },
  {
   "cell_type": "code",
   "execution_count": 14,
   "metadata": {},
   "outputs": [],
   "source": [
    "for row in rows:\n",
    "    cols = row.find_all('td')\n",
    "    cols = [ele.text.strip() for ele in cols]\n",
    "    data.append([ele for ele in cols if ele]) # Get rid of empty values"
   ]
  },
  {
   "cell_type": "code",
   "execution_count": 15,
   "metadata": {},
   "outputs": [],
   "source": [
    "df = pd.DataFrame(data)"
   ]
  },
  {
   "cell_type": "code",
   "execution_count": 16,
   "metadata": {},
   "outputs": [],
   "source": [
    "df.to_csv('console_sales.csv') # Saving the scraped data to a CSV file."
   ]
  },
  {
   "cell_type": "code",
   "execution_count": 17,
   "metadata": {},
   "outputs": [],
   "source": [
    "console_sales = pd.read_csv('console_sales.csv')"
   ]
  },
  {
   "cell_type": "code",
   "execution_count": 18,
   "metadata": {},
   "outputs": [
    {
     "data": {
      "text/html": [
       "<div>\n",
       "<style scoped>\n",
       "    .dataframe tbody tr th:only-of-type {\n",
       "        vertical-align: middle;\n",
       "    }\n",
       "\n",
       "    .dataframe tbody tr th {\n",
       "        vertical-align: top;\n",
       "    }\n",
       "\n",
       "    .dataframe thead th {\n",
       "        text-align: right;\n",
       "    }\n",
       "</style>\n",
       "<table border=\"1\" class=\"dataframe\">\n",
       "  <thead>\n",
       "    <tr style=\"text-align: right;\">\n",
       "      <th></th>\n",
       "      <th>Unnamed: 0</th>\n",
       "      <th>0</th>\n",
       "      <th>1</th>\n",
       "      <th>2</th>\n",
       "      <th>3</th>\n",
       "      <th>4</th>\n",
       "      <th>5</th>\n",
       "      <th>6</th>\n",
       "    </tr>\n",
       "  </thead>\n",
       "  <tbody>\n",
       "    <tr>\n",
       "      <th>0</th>\n",
       "      <td>0</td>\n",
       "      <td>1</td>\n",
       "      <td>PlayStation 2 (PS2)</td>\n",
       "      <td>53.65</td>\n",
       "      <td>55.28</td>\n",
       "      <td>23.18</td>\n",
       "      <td>25.57</td>\n",
       "      <td>157.68</td>\n",
       "    </tr>\n",
       "    <tr>\n",
       "      <th>1</th>\n",
       "      <td>1</td>\n",
       "      <td>2</td>\n",
       "      <td>Nintendo DS (DS)</td>\n",
       "      <td>57.39</td>\n",
       "      <td>52.07</td>\n",
       "      <td>33.01</td>\n",
       "      <td>12.43</td>\n",
       "      <td>154.90</td>\n",
       "    </tr>\n",
       "    <tr>\n",
       "      <th>2</th>\n",
       "      <td>2</td>\n",
       "      <td>3</td>\n",
       "      <td>Game Boy (GB)</td>\n",
       "      <td>43.18</td>\n",
       "      <td>40.05</td>\n",
       "      <td>32.47</td>\n",
       "      <td>2.99</td>\n",
       "      <td>118.69</td>\n",
       "    </tr>\n",
       "    <tr>\n",
       "      <th>3</th>\n",
       "      <td>3</td>\n",
       "      <td>4</td>\n",
       "      <td>PlayStation 4 (PS4)</td>\n",
       "      <td>38.13</td>\n",
       "      <td>48.08</td>\n",
       "      <td>9.36</td>\n",
       "      <td>19.99</td>\n",
       "      <td>115.56</td>\n",
       "    </tr>\n",
       "    <tr>\n",
       "      <th>4</th>\n",
       "      <td>4</td>\n",
       "      <td>5</td>\n",
       "      <td>PlayStation (PS)</td>\n",
       "      <td>40.78</td>\n",
       "      <td>31.09</td>\n",
       "      <td>21.59</td>\n",
       "      <td>9.04</td>\n",
       "      <td>102.50</td>\n",
       "    </tr>\n",
       "  </tbody>\n",
       "</table>\n",
       "</div>"
      ],
      "text/plain": [
       "   Unnamed: 0  0                    1      2      3      4      5       6\n",
       "0           0  1  PlayStation 2 (PS2)  53.65  55.28  23.18  25.57  157.68\n",
       "1           1  2     Nintendo DS (DS)  57.39  52.07  33.01  12.43  154.90\n",
       "2           2  3        Game Boy (GB)  43.18  40.05  32.47   2.99  118.69\n",
       "3           3  4  PlayStation 4 (PS4)  38.13  48.08   9.36  19.99  115.56\n",
       "4           4  5     PlayStation (PS)  40.78  31.09  21.59   9.04  102.50"
      ]
     },
     "execution_count": 18,
     "metadata": {},
     "output_type": "execute_result"
    }
   ],
   "source": [
    "console_sales.head()"
   ]
  },
  {
   "cell_type": "markdown",
   "metadata": {},
   "source": [
    "Dropping unnecessary columns and renaming the columns"
   ]
  },
  {
   "cell_type": "code",
   "execution_count": 19,
   "metadata": {},
   "outputs": [],
   "source": [
    "del(console_sales[\"Unnamed: 0\"])"
   ]
  },
  {
   "cell_type": "code",
   "execution_count": 20,
   "metadata": {},
   "outputs": [],
   "source": [
    "del(console_sales[\"0\"])"
   ]
  },
  {
   "cell_type": "code",
   "execution_count": 21,
   "metadata": {},
   "outputs": [
    {
     "data": {
      "text/html": [
       "<div>\n",
       "<style scoped>\n",
       "    .dataframe tbody tr th:only-of-type {\n",
       "        vertical-align: middle;\n",
       "    }\n",
       "\n",
       "    .dataframe tbody tr th {\n",
       "        vertical-align: top;\n",
       "    }\n",
       "\n",
       "    .dataframe thead th {\n",
       "        text-align: right;\n",
       "    }\n",
       "</style>\n",
       "<table border=\"1\" class=\"dataframe\">\n",
       "  <thead>\n",
       "    <tr style=\"text-align: right;\">\n",
       "      <th></th>\n",
       "      <th>1</th>\n",
       "      <th>2</th>\n",
       "      <th>3</th>\n",
       "      <th>4</th>\n",
       "      <th>5</th>\n",
       "      <th>6</th>\n",
       "    </tr>\n",
       "  </thead>\n",
       "  <tbody>\n",
       "    <tr>\n",
       "      <th>0</th>\n",
       "      <td>PlayStation 2 (PS2)</td>\n",
       "      <td>53.65</td>\n",
       "      <td>55.28</td>\n",
       "      <td>23.18</td>\n",
       "      <td>25.57</td>\n",
       "      <td>157.68</td>\n",
       "    </tr>\n",
       "    <tr>\n",
       "      <th>1</th>\n",
       "      <td>Nintendo DS (DS)</td>\n",
       "      <td>57.39</td>\n",
       "      <td>52.07</td>\n",
       "      <td>33.01</td>\n",
       "      <td>12.43</td>\n",
       "      <td>154.90</td>\n",
       "    </tr>\n",
       "    <tr>\n",
       "      <th>2</th>\n",
       "      <td>Game Boy (GB)</td>\n",
       "      <td>43.18</td>\n",
       "      <td>40.05</td>\n",
       "      <td>32.47</td>\n",
       "      <td>2.99</td>\n",
       "      <td>118.69</td>\n",
       "    </tr>\n",
       "    <tr>\n",
       "      <th>3</th>\n",
       "      <td>PlayStation 4 (PS4)</td>\n",
       "      <td>38.13</td>\n",
       "      <td>48.08</td>\n",
       "      <td>9.36</td>\n",
       "      <td>19.99</td>\n",
       "      <td>115.56</td>\n",
       "    </tr>\n",
       "    <tr>\n",
       "      <th>4</th>\n",
       "      <td>PlayStation (PS)</td>\n",
       "      <td>40.78</td>\n",
       "      <td>31.09</td>\n",
       "      <td>21.59</td>\n",
       "      <td>9.04</td>\n",
       "      <td>102.50</td>\n",
       "    </tr>\n",
       "  </tbody>\n",
       "</table>\n",
       "</div>"
      ],
      "text/plain": [
       "                     1      2      3      4      5       6\n",
       "0  PlayStation 2 (PS2)  53.65  55.28  23.18  25.57  157.68\n",
       "1     Nintendo DS (DS)  57.39  52.07  33.01  12.43  154.90\n",
       "2        Game Boy (GB)  43.18  40.05  32.47   2.99  118.69\n",
       "3  PlayStation 4 (PS4)  38.13  48.08   9.36  19.99  115.56\n",
       "4     PlayStation (PS)  40.78  31.09  21.59   9.04  102.50"
      ]
     },
     "execution_count": 21,
     "metadata": {},
     "output_type": "execute_result"
    }
   ],
   "source": [
    "console_sales.head()"
   ]
  },
  {
   "cell_type": "code",
   "execution_count": 22,
   "metadata": {},
   "outputs": [],
   "source": [
    "console_sales.columns = ['Platform', 'North America', 'Europe', 'Japan', 'Rest of World', 'Global']"
   ]
  },
  {
   "cell_type": "code",
   "execution_count": 54,
   "metadata": {},
   "outputs": [
    {
     "data": {
      "text/html": [
       "<div>\n",
       "<style scoped>\n",
       "    .dataframe tbody tr th:only-of-type {\n",
       "        vertical-align: middle;\n",
       "    }\n",
       "\n",
       "    .dataframe tbody tr th {\n",
       "        vertical-align: top;\n",
       "    }\n",
       "\n",
       "    .dataframe thead th {\n",
       "        text-align: right;\n",
       "    }\n",
       "</style>\n",
       "<table border=\"1\" class=\"dataframe\">\n",
       "  <thead>\n",
       "    <tr style=\"text-align: right;\">\n",
       "      <th></th>\n",
       "      <th>North America</th>\n",
       "      <th>Europe</th>\n",
       "      <th>Japan</th>\n",
       "      <th>Rest of World</th>\n",
       "      <th>Global</th>\n",
       "    </tr>\n",
       "    <tr>\n",
       "      <th>Platform</th>\n",
       "      <th></th>\n",
       "      <th></th>\n",
       "      <th></th>\n",
       "      <th></th>\n",
       "      <th></th>\n",
       "    </tr>\n",
       "  </thead>\n",
       "  <tbody>\n",
       "    <tr>\n",
       "      <th>PlayStation 2 (PS2)</th>\n",
       "      <td>53.65</td>\n",
       "      <td>55.28</td>\n",
       "      <td>23.18</td>\n",
       "      <td>25.57</td>\n",
       "      <td>157.68</td>\n",
       "    </tr>\n",
       "    <tr>\n",
       "      <th>Nintendo DS (DS)</th>\n",
       "      <td>57.39</td>\n",
       "      <td>52.07</td>\n",
       "      <td>33.01</td>\n",
       "      <td>12.43</td>\n",
       "      <td>154.90</td>\n",
       "    </tr>\n",
       "    <tr>\n",
       "      <th>Game Boy (GB)</th>\n",
       "      <td>43.18</td>\n",
       "      <td>40.05</td>\n",
       "      <td>32.47</td>\n",
       "      <td>2.99</td>\n",
       "      <td>118.69</td>\n",
       "    </tr>\n",
       "    <tr>\n",
       "      <th>PlayStation 4 (PS4)</th>\n",
       "      <td>38.13</td>\n",
       "      <td>48.08</td>\n",
       "      <td>9.36</td>\n",
       "      <td>19.99</td>\n",
       "      <td>115.56</td>\n",
       "    </tr>\n",
       "    <tr>\n",
       "      <th>PlayStation (PS)</th>\n",
       "      <td>40.78</td>\n",
       "      <td>31.09</td>\n",
       "      <td>21.59</td>\n",
       "      <td>9.04</td>\n",
       "      <td>102.50</td>\n",
       "    </tr>\n",
       "  </tbody>\n",
       "</table>\n",
       "</div>"
      ],
      "text/plain": [
       "                     North America  Europe  Japan  Rest of World  Global\n",
       "Platform                                                                \n",
       "PlayStation 2 (PS2)          53.65   55.28  23.18          25.57  157.68\n",
       "Nintendo DS (DS)             57.39   52.07  33.01          12.43  154.90\n",
       "Game Boy (GB)                43.18   40.05  32.47           2.99  118.69\n",
       "PlayStation 4 (PS4)          38.13   48.08   9.36          19.99  115.56\n",
       "PlayStation (PS)             40.78   31.09  21.59           9.04  102.50"
      ]
     },
     "execution_count": 54,
     "metadata": {},
     "output_type": "execute_result"
    }
   ],
   "source": [
    "console_sales.head()"
   ]
  },
  {
   "cell_type": "markdown",
   "metadata": {},
   "source": [
    "Setting the gaming platforms as the index"
   ]
  },
  {
   "cell_type": "code",
   "execution_count": 24,
   "metadata": {},
   "outputs": [],
   "source": [
    "console_sales = console_sales.set_index(\"Platform\")"
   ]
  },
  {
   "cell_type": "code",
   "execution_count": 25,
   "metadata": {},
   "outputs": [
    {
     "data": {
      "text/html": [
       "<div>\n",
       "<style scoped>\n",
       "    .dataframe tbody tr th:only-of-type {\n",
       "        vertical-align: middle;\n",
       "    }\n",
       "\n",
       "    .dataframe tbody tr th {\n",
       "        vertical-align: top;\n",
       "    }\n",
       "\n",
       "    .dataframe thead th {\n",
       "        text-align: right;\n",
       "    }\n",
       "</style>\n",
       "<table border=\"1\" class=\"dataframe\">\n",
       "  <thead>\n",
       "    <tr style=\"text-align: right;\">\n",
       "      <th></th>\n",
       "      <th>North America</th>\n",
       "      <th>Europe</th>\n",
       "      <th>Japan</th>\n",
       "      <th>Rest of World</th>\n",
       "      <th>Global</th>\n",
       "    </tr>\n",
       "    <tr>\n",
       "      <th>Platform</th>\n",
       "      <th></th>\n",
       "      <th></th>\n",
       "      <th></th>\n",
       "      <th></th>\n",
       "      <th></th>\n",
       "    </tr>\n",
       "  </thead>\n",
       "  <tbody>\n",
       "    <tr>\n",
       "      <th>PlayStation 2 (PS2)</th>\n",
       "      <td>53.65</td>\n",
       "      <td>55.28</td>\n",
       "      <td>23.18</td>\n",
       "      <td>25.57</td>\n",
       "      <td>157.68</td>\n",
       "    </tr>\n",
       "    <tr>\n",
       "      <th>Nintendo DS (DS)</th>\n",
       "      <td>57.39</td>\n",
       "      <td>52.07</td>\n",
       "      <td>33.01</td>\n",
       "      <td>12.43</td>\n",
       "      <td>154.90</td>\n",
       "    </tr>\n",
       "    <tr>\n",
       "      <th>Game Boy (GB)</th>\n",
       "      <td>43.18</td>\n",
       "      <td>40.05</td>\n",
       "      <td>32.47</td>\n",
       "      <td>2.99</td>\n",
       "      <td>118.69</td>\n",
       "    </tr>\n",
       "    <tr>\n",
       "      <th>PlayStation 4 (PS4)</th>\n",
       "      <td>38.13</td>\n",
       "      <td>48.08</td>\n",
       "      <td>9.36</td>\n",
       "      <td>19.99</td>\n",
       "      <td>115.56</td>\n",
       "    </tr>\n",
       "    <tr>\n",
       "      <th>PlayStation (PS)</th>\n",
       "      <td>40.78</td>\n",
       "      <td>31.09</td>\n",
       "      <td>21.59</td>\n",
       "      <td>9.04</td>\n",
       "      <td>102.50</td>\n",
       "    </tr>\n",
       "  </tbody>\n",
       "</table>\n",
       "</div>"
      ],
      "text/plain": [
       "                     North America  Europe  Japan  Rest of World  Global\n",
       "Platform                                                                \n",
       "PlayStation 2 (PS2)          53.65   55.28  23.18          25.57  157.68\n",
       "Nintendo DS (DS)             57.39   52.07  33.01          12.43  154.90\n",
       "Game Boy (GB)                43.18   40.05  32.47           2.99  118.69\n",
       "PlayStation 4 (PS4)          38.13   48.08   9.36          19.99  115.56\n",
       "PlayStation (PS)             40.78   31.09  21.59           9.04  102.50"
      ]
     },
     "execution_count": 25,
     "metadata": {},
     "output_type": "execute_result"
    }
   ],
   "source": [
    "console_sales.head()"
   ]
  },
  {
   "cell_type": "markdown",
   "metadata": {},
   "source": [
    "Exploring above dataset"
   ]
  },
  {
   "cell_type": "code",
   "execution_count": 26,
   "metadata": {},
   "outputs": [
    {
     "name": "stdout",
     "output_type": "stream",
     "text": [
      "       North America     Europe      Japan  Rest of World      Global\n",
      "count      36.000000  36.000000  36.000000      36.000000   36.000000\n",
      "mean       19.022778  13.556667   8.256667       4.218056   45.054167\n",
      "std        18.294156  16.565537  10.090848       6.373959   47.419213\n",
      "min         0.000000   0.000000   0.000000       0.000000    0.000000\n",
      "25%         2.437500   0.840000   0.030000       0.052500    4.750000\n",
      "50%        16.375000   5.795000   3.455000       0.885000   26.145000\n",
      "75%        32.462500  22.685000  17.012500       6.355000   82.452500\n",
      "max        57.390000  55.280000  33.010000      25.570000  157.680000\n"
     ]
    }
   ],
   "source": [
    "print(console_sales.describe())"
   ]
  },
  {
   "cell_type": "code",
   "execution_count": 27,
   "metadata": {},
   "outputs": [
    {
     "name": "stdout",
     "output_type": "stream",
     "text": [
      "<class 'pandas.core.frame.DataFrame'>\n",
      "Index: 36 entries, PlayStation 2 (PS2) to TurboGrafx-16 (TG16)\n",
      "Data columns (total 5 columns):\n",
      " #   Column         Non-Null Count  Dtype  \n",
      "---  ------         --------------  -----  \n",
      " 0   North America  36 non-null     float64\n",
      " 1   Europe         36 non-null     float64\n",
      " 2   Japan          36 non-null     float64\n",
      " 3   Rest of World  36 non-null     float64\n",
      " 4   Global         36 non-null     float64\n",
      "dtypes: float64(5)\n",
      "memory usage: 1.7+ KB\n",
      "None\n"
     ]
    }
   ],
   "source": [
    "print(console_sales.info())"
   ]
  },
  {
   "cell_type": "code",
   "execution_count": 28,
   "metadata": {},
   "outputs": [
    {
     "data": {
      "text/plain": [
       "(36, 5)"
      ]
     },
     "execution_count": 28,
     "metadata": {},
     "output_type": "execute_result"
    }
   ],
   "source": [
    "console_sales.shape"
   ]
  },
  {
   "cell_type": "markdown",
   "metadata": {},
   "source": [
    "Loading the dataframe for video game sales 2020"
   ]
  },
  {
   "cell_type": "code",
   "execution_count": 29,
   "metadata": {},
   "outputs": [],
   "source": [
    "vgsales = pd.read_csv(\"vgchartz-7_7_2020.csv\")"
   ]
  },
  {
   "cell_type": "code",
   "execution_count": 30,
   "metadata": {},
   "outputs": [
    {
     "data": {
      "text/html": [
       "<div>\n",
       "<style scoped>\n",
       "    .dataframe tbody tr th:only-of-type {\n",
       "        vertical-align: middle;\n",
       "    }\n",
       "\n",
       "    .dataframe tbody tr th {\n",
       "        vertical-align: top;\n",
       "    }\n",
       "\n",
       "    .dataframe thead th {\n",
       "        text-align: right;\n",
       "    }\n",
       "</style>\n",
       "<table border=\"1\" class=\"dataframe\">\n",
       "  <thead>\n",
       "    <tr style=\"text-align: right;\">\n",
       "      <th></th>\n",
       "      <th>Unnamed: 0</th>\n",
       "      <th>img</th>\n",
       "      <th>title</th>\n",
       "      <th>console</th>\n",
       "      <th>genre</th>\n",
       "      <th>publisher</th>\n",
       "      <th>developer</th>\n",
       "      <th>vg_score</th>\n",
       "      <th>critic_score</th>\n",
       "      <th>user_score</th>\n",
       "      <th>total_shipped</th>\n",
       "      <th>total_sales</th>\n",
       "      <th>na_sales</th>\n",
       "      <th>jp_sales</th>\n",
       "      <th>pal_sales</th>\n",
       "      <th>other_sales</th>\n",
       "      <th>release_date</th>\n",
       "      <th>last_update</th>\n",
       "    </tr>\n",
       "  </thead>\n",
       "  <tbody>\n",
       "    <tr>\n",
       "      <th>0</th>\n",
       "      <td>3</td>\n",
       "      <td>/games/boxart/full_3351915AmericaFrontccc.jpg</td>\n",
       "      <td>Warriors</td>\n",
       "      <td>Series</td>\n",
       "      <td>Action</td>\n",
       "      <td>Unknown</td>\n",
       "      <td>Omega Force</td>\n",
       "      <td>NaN</td>\n",
       "      <td>NaN</td>\n",
       "      <td>NaN</td>\n",
       "      <td>42.06</td>\n",
       "      <td>NaN</td>\n",
       "      <td>NaN</td>\n",
       "      <td>NaN</td>\n",
       "      <td>NaN</td>\n",
       "      <td>NaN</td>\n",
       "      <td>NaN</td>\n",
       "      <td>24/03/2020</td>\n",
       "    </tr>\n",
       "    <tr>\n",
       "      <th>1</th>\n",
       "      <td>4</td>\n",
       "      <td>/games/boxart/full_5741036AmericaFrontccc.jpg</td>\n",
       "      <td>God of War</td>\n",
       "      <td>Series</td>\n",
       "      <td>Action</td>\n",
       "      <td>Sony Computer Entertainment</td>\n",
       "      <td>SIE Santa Monica Studio|Ready at Dawn|Javagrou...</td>\n",
       "      <td>NaN</td>\n",
       "      <td>NaN</td>\n",
       "      <td>NaN</td>\n",
       "      <td>35.05</td>\n",
       "      <td>NaN</td>\n",
       "      <td>NaN</td>\n",
       "      <td>NaN</td>\n",
       "      <td>NaN</td>\n",
       "      <td>NaN</td>\n",
       "      <td>22/03/2005</td>\n",
       "      <td>04/03/2020</td>\n",
       "    </tr>\n",
       "    <tr>\n",
       "      <th>2</th>\n",
       "      <td>5</td>\n",
       "      <td>/games/boxart/full_6662824AmericaFrontccc.png</td>\n",
       "      <td>Devil May Cry</td>\n",
       "      <td>Series</td>\n",
       "      <td>Action</td>\n",
       "      <td>Capcom</td>\n",
       "      <td>Capcom|Ninja Theory</td>\n",
       "      <td>NaN</td>\n",
       "      <td>NaN</td>\n",
       "      <td>NaN</td>\n",
       "      <td>22.00</td>\n",
       "      <td>NaN</td>\n",
       "      <td>NaN</td>\n",
       "      <td>NaN</td>\n",
       "      <td>NaN</td>\n",
       "      <td>NaN</td>\n",
       "      <td>16/10/2001</td>\n",
       "      <td>03/02/2020</td>\n",
       "    </tr>\n",
       "    <tr>\n",
       "      <th>3</th>\n",
       "      <td>6</td>\n",
       "      <td>/games/boxart/full_6510540AmericaFrontccc.jpg</td>\n",
       "      <td>Grand Theft Auto V</td>\n",
       "      <td>PS3</td>\n",
       "      <td>Action</td>\n",
       "      <td>Rockstar Games</td>\n",
       "      <td>Rockstar North</td>\n",
       "      <td>NaN</td>\n",
       "      <td>9.4</td>\n",
       "      <td>NaN</td>\n",
       "      <td>NaN</td>\n",
       "      <td>20.32</td>\n",
       "      <td>6.37</td>\n",
       "      <td>0.99</td>\n",
       "      <td>9.85</td>\n",
       "      <td>3.12</td>\n",
       "      <td>17/09/2013</td>\n",
       "      <td>NaN</td>\n",
       "    </tr>\n",
       "    <tr>\n",
       "      <th>4</th>\n",
       "      <td>7</td>\n",
       "      <td>/games/boxart/full_6800951AmericaFrontccc.jpg</td>\n",
       "      <td>Frogger</td>\n",
       "      <td>Series</td>\n",
       "      <td>Action</td>\n",
       "      <td>Konami</td>\n",
       "      <td>Konami|Parker Brothers|SCE Cambridge Studio|Bl...</td>\n",
       "      <td>NaN</td>\n",
       "      <td>NaN</td>\n",
       "      <td>NaN</td>\n",
       "      <td>20.00</td>\n",
       "      <td>NaN</td>\n",
       "      <td>NaN</td>\n",
       "      <td>NaN</td>\n",
       "      <td>NaN</td>\n",
       "      <td>NaN</td>\n",
       "      <td>23/10/1981</td>\n",
       "      <td>26/02/2020</td>\n",
       "    </tr>\n",
       "  </tbody>\n",
       "</table>\n",
       "</div>"
      ],
      "text/plain": [
       "   Unnamed: 0                                            img  \\\n",
       "0           3  /games/boxart/full_3351915AmericaFrontccc.jpg   \n",
       "1           4  /games/boxart/full_5741036AmericaFrontccc.jpg   \n",
       "2           5  /games/boxart/full_6662824AmericaFrontccc.png   \n",
       "3           6  /games/boxart/full_6510540AmericaFrontccc.jpg   \n",
       "4           7  /games/boxart/full_6800951AmericaFrontccc.jpg   \n",
       "\n",
       "                title console   genre                    publisher  \\\n",
       "0            Warriors  Series  Action                      Unknown   \n",
       "1          God of War  Series  Action  Sony Computer Entertainment   \n",
       "2       Devil May Cry  Series  Action                       Capcom   \n",
       "3  Grand Theft Auto V     PS3  Action               Rockstar Games   \n",
       "4             Frogger  Series  Action                       Konami   \n",
       "\n",
       "                                           developer  vg_score  critic_score  \\\n",
       "0                                        Omega Force       NaN           NaN   \n",
       "1  SIE Santa Monica Studio|Ready at Dawn|Javagrou...       NaN           NaN   \n",
       "2                                Capcom|Ninja Theory       NaN           NaN   \n",
       "3                                     Rockstar North       NaN           9.4   \n",
       "4  Konami|Parker Brothers|SCE Cambridge Studio|Bl...       NaN           NaN   \n",
       "\n",
       "   user_score  total_shipped  total_sales  na_sales  jp_sales  pal_sales  \\\n",
       "0         NaN          42.06          NaN       NaN       NaN        NaN   \n",
       "1         NaN          35.05          NaN       NaN       NaN        NaN   \n",
       "2         NaN          22.00          NaN       NaN       NaN        NaN   \n",
       "3         NaN            NaN        20.32      6.37      0.99       9.85   \n",
       "4         NaN          20.00          NaN       NaN       NaN        NaN   \n",
       "\n",
       "   other_sales release_date last_update  \n",
       "0          NaN          NaN  24/03/2020  \n",
       "1          NaN   22/03/2005  04/03/2020  \n",
       "2          NaN   16/10/2001  03/02/2020  \n",
       "3         3.12   17/09/2013         NaN  \n",
       "4          NaN   23/10/1981  26/02/2020  "
      ]
     },
     "execution_count": 30,
     "metadata": {},
     "output_type": "execute_result"
    }
   ],
   "source": [
    "vgsales.head()"
   ]
  },
  {
   "cell_type": "code",
   "execution_count": 31,
   "metadata": {},
   "outputs": [
    {
     "data": {
      "text/plain": [
       "(57950, 18)"
      ]
     },
     "execution_count": 31,
     "metadata": {},
     "output_type": "execute_result"
    }
   ],
   "source": [
    "vgsales.shape"
   ]
  },
  {
   "cell_type": "code",
   "execution_count": 32,
   "metadata": {},
   "outputs": [
    {
     "name": "stdout",
     "output_type": "stream",
     "text": [
      "<class 'pandas.core.frame.DataFrame'>\n",
      "RangeIndex: 57950 entries, 0 to 57949\n",
      "Data columns (total 18 columns):\n",
      " #   Column         Non-Null Count  Dtype  \n",
      "---  ------         --------------  -----  \n",
      " 0   Unnamed: 0     57950 non-null  int64  \n",
      " 1   img            57950 non-null  object \n",
      " 2   title          57950 non-null  object \n",
      " 3   console        57950 non-null  object \n",
      " 4   genre          57950 non-null  object \n",
      " 5   publisher      57950 non-null  object \n",
      " 6   developer      57933 non-null  object \n",
      " 7   vg_score       984 non-null    float64\n",
      " 8   critic_score   6544 non-null   float64\n",
      " 9   user_score     386 non-null    float64\n",
      " 10  total_shipped  2373 non-null   float64\n",
      " 11  total_sales    19319 non-null  float64\n",
      " 12  na_sales       12900 non-null  float64\n",
      " 13  jp_sales       6993 non-null   float64\n",
      " 14  pal_sales      13111 non-null  float64\n",
      " 15  other_sales    15440 non-null  float64\n",
      " 16  release_date   54296 non-null  object \n",
      " 17  last_update    11763 non-null  object \n",
      "dtypes: float64(9), int64(1), object(8)\n",
      "memory usage: 8.0+ MB\n"
     ]
    }
   ],
   "source": [
    "vgsales.info()"
   ]
  },
  {
   "cell_type": "code",
   "execution_count": 33,
   "metadata": {},
   "outputs": [
    {
     "data": {
      "text/plain": [
       "array(['Series', 'PS3', 'PS4', 'PS2', 'X360', 'PC', 'XOne', 'PSP', 'PS',\n",
       "       'Wii', 'DS', '3DS', 'NES', 'GC', 'WiiU', 'XB', 'N64', 'GEN',\n",
       "       '2600', 'GBA', 'GB', 'PSV', 'SNES', 'DC', 'NS', 'SAT', 'XBL',\n",
       "       'PSN', 'And', 'DSiW', 'OSX', 'Lynx', 'SCD', 'Linux', 'MS', 'WW',\n",
       "       'ZXS', 'ACPC', 'Amig', '7800', 'VC', 'GG', 'DSi', 'PCE', '5200',\n",
       "       'AJ', 'WinP', 'Mob', 'iQue', 'iOS', 'WS', 'NG', 'GIZ', '3DO', 'VB',\n",
       "       'GBC', 'Ouya', 'NGage', 'AST', 'MSD', 'S32X', 'PCFX', 'Int', 'XSX',\n",
       "       'PS5', 'C128', 'CDi', 'CD32', 'Arc', 'C64', 'BRW', 'FMT', 'MSX',\n",
       "       'BBCM', 'ApII', 'Aco', 'TG16'], dtype=object)"
      ]
     },
     "execution_count": 33,
     "metadata": {},
     "output_type": "execute_result"
    }
   ],
   "source": [
    "vgsales[\"console\"].unique()"
   ]
  },
  {
   "cell_type": "markdown",
   "metadata": {},
   "source": [
    "Delete unneccesary columns and set a column as index"
   ]
  },
  {
   "cell_type": "code",
   "execution_count": 34,
   "metadata": {},
   "outputs": [],
   "source": [
    "vg_sales = vgsales.set_index([\"console\"])"
   ]
  },
  {
   "cell_type": "code",
   "execution_count": 35,
   "metadata": {},
   "outputs": [
    {
     "data": {
      "text/html": [
       "<div>\n",
       "<style scoped>\n",
       "    .dataframe tbody tr th:only-of-type {\n",
       "        vertical-align: middle;\n",
       "    }\n",
       "\n",
       "    .dataframe tbody tr th {\n",
       "        vertical-align: top;\n",
       "    }\n",
       "\n",
       "    .dataframe thead th {\n",
       "        text-align: right;\n",
       "    }\n",
       "</style>\n",
       "<table border=\"1\" class=\"dataframe\">\n",
       "  <thead>\n",
       "    <tr style=\"text-align: right;\">\n",
       "      <th></th>\n",
       "      <th>Unnamed: 0</th>\n",
       "      <th>img</th>\n",
       "      <th>title</th>\n",
       "      <th>genre</th>\n",
       "      <th>publisher</th>\n",
       "      <th>developer</th>\n",
       "      <th>vg_score</th>\n",
       "      <th>critic_score</th>\n",
       "      <th>user_score</th>\n",
       "      <th>total_shipped</th>\n",
       "      <th>total_sales</th>\n",
       "      <th>na_sales</th>\n",
       "      <th>jp_sales</th>\n",
       "      <th>pal_sales</th>\n",
       "      <th>other_sales</th>\n",
       "      <th>release_date</th>\n",
       "      <th>last_update</th>\n",
       "    </tr>\n",
       "    <tr>\n",
       "      <th>console</th>\n",
       "      <th></th>\n",
       "      <th></th>\n",
       "      <th></th>\n",
       "      <th></th>\n",
       "      <th></th>\n",
       "      <th></th>\n",
       "      <th></th>\n",
       "      <th></th>\n",
       "      <th></th>\n",
       "      <th></th>\n",
       "      <th></th>\n",
       "      <th></th>\n",
       "      <th></th>\n",
       "      <th></th>\n",
       "      <th></th>\n",
       "      <th></th>\n",
       "      <th></th>\n",
       "    </tr>\n",
       "  </thead>\n",
       "  <tbody>\n",
       "    <tr>\n",
       "      <th>Series</th>\n",
       "      <td>3</td>\n",
       "      <td>/games/boxart/full_3351915AmericaFrontccc.jpg</td>\n",
       "      <td>Warriors</td>\n",
       "      <td>Action</td>\n",
       "      <td>Unknown</td>\n",
       "      <td>Omega Force</td>\n",
       "      <td>NaN</td>\n",
       "      <td>NaN</td>\n",
       "      <td>NaN</td>\n",
       "      <td>42.06</td>\n",
       "      <td>NaN</td>\n",
       "      <td>NaN</td>\n",
       "      <td>NaN</td>\n",
       "      <td>NaN</td>\n",
       "      <td>NaN</td>\n",
       "      <td>NaN</td>\n",
       "      <td>24/03/2020</td>\n",
       "    </tr>\n",
       "    <tr>\n",
       "      <th>Series</th>\n",
       "      <td>4</td>\n",
       "      <td>/games/boxart/full_5741036AmericaFrontccc.jpg</td>\n",
       "      <td>God of War</td>\n",
       "      <td>Action</td>\n",
       "      <td>Sony Computer Entertainment</td>\n",
       "      <td>SIE Santa Monica Studio|Ready at Dawn|Javagrou...</td>\n",
       "      <td>NaN</td>\n",
       "      <td>NaN</td>\n",
       "      <td>NaN</td>\n",
       "      <td>35.05</td>\n",
       "      <td>NaN</td>\n",
       "      <td>NaN</td>\n",
       "      <td>NaN</td>\n",
       "      <td>NaN</td>\n",
       "      <td>NaN</td>\n",
       "      <td>22/03/2005</td>\n",
       "      <td>04/03/2020</td>\n",
       "    </tr>\n",
       "    <tr>\n",
       "      <th>Series</th>\n",
       "      <td>5</td>\n",
       "      <td>/games/boxart/full_6662824AmericaFrontccc.png</td>\n",
       "      <td>Devil May Cry</td>\n",
       "      <td>Action</td>\n",
       "      <td>Capcom</td>\n",
       "      <td>Capcom|Ninja Theory</td>\n",
       "      <td>NaN</td>\n",
       "      <td>NaN</td>\n",
       "      <td>NaN</td>\n",
       "      <td>22.00</td>\n",
       "      <td>NaN</td>\n",
       "      <td>NaN</td>\n",
       "      <td>NaN</td>\n",
       "      <td>NaN</td>\n",
       "      <td>NaN</td>\n",
       "      <td>16/10/2001</td>\n",
       "      <td>03/02/2020</td>\n",
       "    </tr>\n",
       "    <tr>\n",
       "      <th>PS3</th>\n",
       "      <td>6</td>\n",
       "      <td>/games/boxart/full_6510540AmericaFrontccc.jpg</td>\n",
       "      <td>Grand Theft Auto V</td>\n",
       "      <td>Action</td>\n",
       "      <td>Rockstar Games</td>\n",
       "      <td>Rockstar North</td>\n",
       "      <td>NaN</td>\n",
       "      <td>9.4</td>\n",
       "      <td>NaN</td>\n",
       "      <td>NaN</td>\n",
       "      <td>20.32</td>\n",
       "      <td>6.37</td>\n",
       "      <td>0.99</td>\n",
       "      <td>9.85</td>\n",
       "      <td>3.12</td>\n",
       "      <td>17/09/2013</td>\n",
       "      <td>NaN</td>\n",
       "    </tr>\n",
       "    <tr>\n",
       "      <th>Series</th>\n",
       "      <td>7</td>\n",
       "      <td>/games/boxart/full_6800951AmericaFrontccc.jpg</td>\n",
       "      <td>Frogger</td>\n",
       "      <td>Action</td>\n",
       "      <td>Konami</td>\n",
       "      <td>Konami|Parker Brothers|SCE Cambridge Studio|Bl...</td>\n",
       "      <td>NaN</td>\n",
       "      <td>NaN</td>\n",
       "      <td>NaN</td>\n",
       "      <td>20.00</td>\n",
       "      <td>NaN</td>\n",
       "      <td>NaN</td>\n",
       "      <td>NaN</td>\n",
       "      <td>NaN</td>\n",
       "      <td>NaN</td>\n",
       "      <td>23/10/1981</td>\n",
       "      <td>26/02/2020</td>\n",
       "    </tr>\n",
       "  </tbody>\n",
       "</table>\n",
       "</div>"
      ],
      "text/plain": [
       "         Unnamed: 0                                            img  \\\n",
       "console                                                              \n",
       "Series            3  /games/boxart/full_3351915AmericaFrontccc.jpg   \n",
       "Series            4  /games/boxart/full_5741036AmericaFrontccc.jpg   \n",
       "Series            5  /games/boxart/full_6662824AmericaFrontccc.png   \n",
       "PS3               6  /games/boxart/full_6510540AmericaFrontccc.jpg   \n",
       "Series            7  /games/boxart/full_6800951AmericaFrontccc.jpg   \n",
       "\n",
       "                      title   genre                    publisher  \\\n",
       "console                                                            \n",
       "Series             Warriors  Action                      Unknown   \n",
       "Series           God of War  Action  Sony Computer Entertainment   \n",
       "Series        Devil May Cry  Action                       Capcom   \n",
       "PS3      Grand Theft Auto V  Action               Rockstar Games   \n",
       "Series              Frogger  Action                       Konami   \n",
       "\n",
       "                                                 developer  vg_score  \\\n",
       "console                                                                \n",
       "Series                                         Omega Force       NaN   \n",
       "Series   SIE Santa Monica Studio|Ready at Dawn|Javagrou...       NaN   \n",
       "Series                                 Capcom|Ninja Theory       NaN   \n",
       "PS3                                         Rockstar North       NaN   \n",
       "Series   Konami|Parker Brothers|SCE Cambridge Studio|Bl...       NaN   \n",
       "\n",
       "         critic_score  user_score  total_shipped  total_sales  na_sales  \\\n",
       "console                                                                   \n",
       "Series            NaN         NaN          42.06          NaN       NaN   \n",
       "Series            NaN         NaN          35.05          NaN       NaN   \n",
       "Series            NaN         NaN          22.00          NaN       NaN   \n",
       "PS3               9.4         NaN            NaN        20.32      6.37   \n",
       "Series            NaN         NaN          20.00          NaN       NaN   \n",
       "\n",
       "         jp_sales  pal_sales  other_sales release_date last_update  \n",
       "console                                                             \n",
       "Series        NaN        NaN          NaN          NaN  24/03/2020  \n",
       "Series        NaN        NaN          NaN   22/03/2005  04/03/2020  \n",
       "Series        NaN        NaN          NaN   16/10/2001  03/02/2020  \n",
       "PS3          0.99       9.85         3.12   17/09/2013         NaN  \n",
       "Series        NaN        NaN          NaN   23/10/1981  26/02/2020  "
      ]
     },
     "execution_count": 35,
     "metadata": {},
     "output_type": "execute_result"
    }
   ],
   "source": [
    "vg_sales.head()"
   ]
  },
  {
   "cell_type": "markdown",
   "metadata": {},
   "source": [
    "Subsetting data on popular platforms released from 2000-2020 only"
   ]
  },
  {
   "cell_type": "code",
   "execution_count": 36,
   "metadata": {},
   "outputs": [],
   "source": [
    "vg_sales = vg_sales.loc[[\"PS2\", \"PS3\", \"PS4\", \"PS5\", \"PSP\", \"PSV\", \"PSN\", \"GC\", \"PC\", \"XB\", \"XBL\", \"X360\", \"XOne\", \"XSX\", \"DS\", \"3DS\", \"NS\", \"Wii\", \"WiiU\"]]"
   ]
  },
  {
   "cell_type": "markdown",
   "metadata": {},
   "source": [
    "Slicing dataset and replace missing values"
   ]
  },
  {
   "cell_type": "code",
   "execution_count": 37,
   "metadata": {},
   "outputs": [],
   "source": [
    "vg_sales_slice = vg_sales.loc[:, \"title\":\"release_date\"]"
   ]
  },
  {
   "cell_type": "code",
   "execution_count": 38,
   "metadata": {},
   "outputs": [],
   "source": [
    "del(vg_sales_slice[\"total_shipped\"])"
   ]
  },
  {
   "cell_type": "code",
   "execution_count": 39,
   "metadata": {},
   "outputs": [],
   "source": [
    "del(vg_sales_slice[\"vg_score\"])"
   ]
  },
  {
   "cell_type": "code",
   "execution_count": 40,
   "metadata": {},
   "outputs": [],
   "source": [
    "del(vg_sales_slice[\"developer\"])"
   ]
  },
  {
   "cell_type": "code",
   "execution_count": 41,
   "metadata": {},
   "outputs": [
    {
     "data": {
      "text/html": [
       "<div>\n",
       "<style scoped>\n",
       "    .dataframe tbody tr th:only-of-type {\n",
       "        vertical-align: middle;\n",
       "    }\n",
       "\n",
       "    .dataframe tbody tr th {\n",
       "        vertical-align: top;\n",
       "    }\n",
       "\n",
       "    .dataframe thead th {\n",
       "        text-align: right;\n",
       "    }\n",
       "</style>\n",
       "<table border=\"1\" class=\"dataframe\">\n",
       "  <thead>\n",
       "    <tr style=\"text-align: right;\">\n",
       "      <th></th>\n",
       "      <th>title</th>\n",
       "      <th>genre</th>\n",
       "      <th>publisher</th>\n",
       "      <th>critic_score</th>\n",
       "      <th>user_score</th>\n",
       "      <th>total_sales</th>\n",
       "      <th>na_sales</th>\n",
       "      <th>jp_sales</th>\n",
       "      <th>pal_sales</th>\n",
       "      <th>other_sales</th>\n",
       "      <th>release_date</th>\n",
       "    </tr>\n",
       "    <tr>\n",
       "      <th>console</th>\n",
       "      <th></th>\n",
       "      <th></th>\n",
       "      <th></th>\n",
       "      <th></th>\n",
       "      <th></th>\n",
       "      <th></th>\n",
       "      <th></th>\n",
       "      <th></th>\n",
       "      <th></th>\n",
       "      <th></th>\n",
       "      <th></th>\n",
       "    </tr>\n",
       "  </thead>\n",
       "  <tbody>\n",
       "    <tr>\n",
       "      <th>PS2</th>\n",
       "      <td>Grand Theft Auto: San Andreas</td>\n",
       "      <td>Action</td>\n",
       "      <td>Rockstar Games</td>\n",
       "      <td>9.5</td>\n",
       "      <td>NaN</td>\n",
       "      <td>NaN</td>\n",
       "      <td>NaN</td>\n",
       "      <td>NaN</td>\n",
       "      <td>NaN</td>\n",
       "      <td>NaN</td>\n",
       "      <td>26/10/2004</td>\n",
       "    </tr>\n",
       "    <tr>\n",
       "      <th>PS2</th>\n",
       "      <td>Grand Theft Auto: Vice City</td>\n",
       "      <td>Action</td>\n",
       "      <td>Rockstar Games</td>\n",
       "      <td>9.6</td>\n",
       "      <td>NaN</td>\n",
       "      <td>16.15</td>\n",
       "      <td>8.41</td>\n",
       "      <td>0.47</td>\n",
       "      <td>5.49</td>\n",
       "      <td>1.78</td>\n",
       "      <td>28/10/2002</td>\n",
       "    </tr>\n",
       "    <tr>\n",
       "      <th>PS2</th>\n",
       "      <td>Grand Theft Auto III</td>\n",
       "      <td>Action</td>\n",
       "      <td>Rockstar Games</td>\n",
       "      <td>9.5</td>\n",
       "      <td>NaN</td>\n",
       "      <td>13.10</td>\n",
       "      <td>6.99</td>\n",
       "      <td>0.30</td>\n",
       "      <td>4.51</td>\n",
       "      <td>1.30</td>\n",
       "      <td>23/10/2001</td>\n",
       "    </tr>\n",
       "    <tr>\n",
       "      <th>PS2</th>\n",
       "      <td>Metal Gear Solid 2: Sons of Liberty</td>\n",
       "      <td>Action</td>\n",
       "      <td>Konami</td>\n",
       "      <td>9.5</td>\n",
       "      <td>7.0</td>\n",
       "      <td>6.05</td>\n",
       "      <td>2.45</td>\n",
       "      <td>0.87</td>\n",
       "      <td>2.01</td>\n",
       "      <td>0.72</td>\n",
       "      <td>12/11/2001</td>\n",
       "    </tr>\n",
       "    <tr>\n",
       "      <th>PS2</th>\n",
       "      <td>The Lord of the Rings: The Two Towers</td>\n",
       "      <td>Action</td>\n",
       "      <td>Electronic Arts</td>\n",
       "      <td>8.3</td>\n",
       "      <td>NaN</td>\n",
       "      <td>4.67</td>\n",
       "      <td>1.94</td>\n",
       "      <td>0.08</td>\n",
       "      <td>1.95</td>\n",
       "      <td>0.70</td>\n",
       "      <td>21/10/2002</td>\n",
       "    </tr>\n",
       "  </tbody>\n",
       "</table>\n",
       "</div>"
      ],
      "text/plain": [
       "                                         title   genre        publisher  \\\n",
       "console                                                                   \n",
       "PS2              Grand Theft Auto: San Andreas  Action   Rockstar Games   \n",
       "PS2                Grand Theft Auto: Vice City  Action   Rockstar Games   \n",
       "PS2                       Grand Theft Auto III  Action   Rockstar Games   \n",
       "PS2        Metal Gear Solid 2: Sons of Liberty  Action           Konami   \n",
       "PS2      The Lord of the Rings: The Two Towers  Action  Electronic Arts   \n",
       "\n",
       "         critic_score  user_score  total_sales  na_sales  jp_sales  pal_sales  \\\n",
       "console                                                                         \n",
       "PS2               9.5         NaN          NaN       NaN       NaN        NaN   \n",
       "PS2               9.6         NaN        16.15      8.41      0.47       5.49   \n",
       "PS2               9.5         NaN        13.10      6.99      0.30       4.51   \n",
       "PS2               9.5         7.0         6.05      2.45      0.87       2.01   \n",
       "PS2               8.3         NaN         4.67      1.94      0.08       1.95   \n",
       "\n",
       "         other_sales release_date  \n",
       "console                            \n",
       "PS2              NaN   26/10/2004  \n",
       "PS2             1.78   28/10/2002  \n",
       "PS2             1.30   23/10/2001  \n",
       "PS2             0.72   12/11/2001  \n",
       "PS2             0.70   21/10/2002  "
      ]
     },
     "execution_count": 41,
     "metadata": {},
     "output_type": "execute_result"
    }
   ],
   "source": [
    "vg_sales_slice.head()"
   ]
  },
  {
   "cell_type": "code",
   "execution_count": 42,
   "metadata": {},
   "outputs": [
    {
     "data": {
      "text/plain": [
       "(39117, 11)"
      ]
     },
     "execution_count": 42,
     "metadata": {},
     "output_type": "execute_result"
    }
   ],
   "source": [
    "vg_sales_slice.shape"
   ]
  },
  {
   "cell_type": "markdown",
   "metadata": {},
   "source": [
    "Checking for and filling in missing values"
   ]
  },
  {
   "cell_type": "code",
   "execution_count": 43,
   "metadata": {},
   "outputs": [
    {
     "data": {
      "text/plain": [
       "title               0\n",
       "genre               0\n",
       "publisher           0\n",
       "critic_score    33906\n",
       "user_score      38755\n",
       "total_sales     22898\n",
       "na_sales        28456\n",
       "jp_sales        33277\n",
       "pal_sales       28230\n",
       "other_sales     26427\n",
       "release_date     3110\n",
       "dtype: int64"
      ]
     },
     "execution_count": 43,
     "metadata": {},
     "output_type": "execute_result"
    }
   ],
   "source": [
    "vg_sales_slice.isna().sum()"
   ]
  },
  {
   "cell_type": "code",
   "execution_count": 44,
   "metadata": {},
   "outputs": [
    {
     "data": {
      "text/plain": [
       "<AxesSubplot:>"
      ]
     },
     "execution_count": 44,
     "metadata": {},
     "output_type": "execute_result"
    },
    {
     "data": {
      "image/png": "[encoded data removed]",
      "text/plain": [
       "<Figure size 432x288 with 1 Axes>"
      ]
     },
     "metadata": {
      "needs_background": "light"
     },
     "output_type": "display_data"
    }
   ],
   "source": [
    "vg_sales_slice.isna().sum().plot(kind=\"bar\")"
   ]
  },
  {
   "cell_type": "code",
   "execution_count": 45,
   "metadata": {},
   "outputs": [],
   "source": [
    "vgsales_final = vg_sales_slice.dropna(subset=[\"release_date\"])"
   ]
  },
  {
   "cell_type": "code",
   "execution_count": 46,
   "metadata": {},
   "outputs": [],
   "source": [
    "vg_av = vgsales_final.dropna()"
   ]
  },
  {
   "cell_type": "code",
   "execution_count": 47,
   "metadata": {},
   "outputs": [
    {
     "data": {
      "text/plain": [
       "critic_score    8.073267\n",
       "user_score      8.542574\n",
       "total_sales     2.173762\n",
       "na_sales        1.134653\n",
       "jp_sales        0.150396\n",
       "pal_sales       0.638713\n",
       "other_sales     0.249703\n",
       "dtype: float64"
      ]
     },
     "execution_count": 47,
     "metadata": {},
     "output_type": "execute_result"
    }
   ],
   "source": [
    "vg_av.mean()"
   ]
  },
  {
   "cell_type": "code",
   "execution_count": 48,
   "metadata": {},
   "outputs": [],
   "source": [
    "vgsales_final = vgsales_final.fillna({\"critic_score\":8.1, \"user_score\":8.5, \"total_sales\":2.2, \"na_sales\":1.1, \"jp_sales\":0.2, \"pal_sales\":0.6, \"other_sales\":0.2})"
   ]
  },
  {
   "cell_type": "code",
   "execution_count": 49,
   "metadata": {},
   "outputs": [
    {
     "data": {
      "text/plain": [
       "title           0\n",
       "genre           0\n",
       "publisher       0\n",
       "critic_score    0\n",
       "user_score      0\n",
       "total_sales     0\n",
       "na_sales        0\n",
       "jp_sales        0\n",
       "pal_sales       0\n",
       "other_sales     0\n",
       "release_date    0\n",
       "dtype: int64"
      ]
     },
     "execution_count": 49,
     "metadata": {},
     "output_type": "execute_result"
    }
   ],
   "source": [
    "vgsales_final.isna().sum()"
   ]
  },
  {
   "cell_type": "code",
   "execution_count": 50,
   "metadata": {},
   "outputs": [
    {
     "data": {
      "text/html": [
       "<div>\n",
       "<style scoped>\n",
       "    .dataframe tbody tr th:only-of-type {\n",
       "        vertical-align: middle;\n",
       "    }\n",
       "\n",
       "    .dataframe tbody tr th {\n",
       "        vertical-align: top;\n",
       "    }\n",
       "\n",
       "    .dataframe thead th {\n",
       "        text-align: right;\n",
       "    }\n",
       "</style>\n",
       "<table border=\"1\" class=\"dataframe\">\n",
       "  <thead>\n",
       "    <tr style=\"text-align: right;\">\n",
       "      <th></th>\n",
       "      <th>title</th>\n",
       "      <th>genre</th>\n",
       "      <th>publisher</th>\n",
       "      <th>critic_score</th>\n",
       "      <th>user_score</th>\n",
       "      <th>total_sales</th>\n",
       "      <th>na_sales</th>\n",
       "      <th>jp_sales</th>\n",
       "      <th>pal_sales</th>\n",
       "      <th>other_sales</th>\n",
       "      <th>release_date</th>\n",
       "    </tr>\n",
       "    <tr>\n",
       "      <th>console</th>\n",
       "      <th></th>\n",
       "      <th></th>\n",
       "      <th></th>\n",
       "      <th></th>\n",
       "      <th></th>\n",
       "      <th></th>\n",
       "      <th></th>\n",
       "      <th></th>\n",
       "      <th></th>\n",
       "      <th></th>\n",
       "      <th></th>\n",
       "    </tr>\n",
       "  </thead>\n",
       "  <tbody>\n",
       "    <tr>\n",
       "      <th>PS2</th>\n",
       "      <td>Grand Theft Auto: San Andreas</td>\n",
       "      <td>Action</td>\n",
       "      <td>Rockstar Games</td>\n",
       "      <td>9.5</td>\n",
       "      <td>8.5</td>\n",
       "      <td>2.20</td>\n",
       "      <td>1.10</td>\n",
       "      <td>0.20</td>\n",
       "      <td>0.60</td>\n",
       "      <td>0.20</td>\n",
       "      <td>26/10/2004</td>\n",
       "    </tr>\n",
       "    <tr>\n",
       "      <th>PS2</th>\n",
       "      <td>Grand Theft Auto: Vice City</td>\n",
       "      <td>Action</td>\n",
       "      <td>Rockstar Games</td>\n",
       "      <td>9.6</td>\n",
       "      <td>8.5</td>\n",
       "      <td>16.15</td>\n",
       "      <td>8.41</td>\n",
       "      <td>0.47</td>\n",
       "      <td>5.49</td>\n",
       "      <td>1.78</td>\n",
       "      <td>28/10/2002</td>\n",
       "    </tr>\n",
       "    <tr>\n",
       "      <th>PS2</th>\n",
       "      <td>Grand Theft Auto III</td>\n",
       "      <td>Action</td>\n",
       "      <td>Rockstar Games</td>\n",
       "      <td>9.5</td>\n",
       "      <td>8.5</td>\n",
       "      <td>13.10</td>\n",
       "      <td>6.99</td>\n",
       "      <td>0.30</td>\n",
       "      <td>4.51</td>\n",
       "      <td>1.30</td>\n",
       "      <td>23/10/2001</td>\n",
       "    </tr>\n",
       "    <tr>\n",
       "      <th>PS2</th>\n",
       "      <td>Metal Gear Solid 2: Sons of Liberty</td>\n",
       "      <td>Action</td>\n",
       "      <td>Konami</td>\n",
       "      <td>9.5</td>\n",
       "      <td>7.0</td>\n",
       "      <td>6.05</td>\n",
       "      <td>2.45</td>\n",
       "      <td>0.87</td>\n",
       "      <td>2.01</td>\n",
       "      <td>0.72</td>\n",
       "      <td>12/11/2001</td>\n",
       "    </tr>\n",
       "    <tr>\n",
       "      <th>PS2</th>\n",
       "      <td>The Lord of the Rings: The Two Towers</td>\n",
       "      <td>Action</td>\n",
       "      <td>Electronic Arts</td>\n",
       "      <td>8.3</td>\n",
       "      <td>8.5</td>\n",
       "      <td>4.67</td>\n",
       "      <td>1.94</td>\n",
       "      <td>0.08</td>\n",
       "      <td>1.95</td>\n",
       "      <td>0.70</td>\n",
       "      <td>21/10/2002</td>\n",
       "    </tr>\n",
       "  </tbody>\n",
       "</table>\n",
       "</div>"
      ],
      "text/plain": [
       "                                         title   genre        publisher  \\\n",
       "console                                                                   \n",
       "PS2              Grand Theft Auto: San Andreas  Action   Rockstar Games   \n",
       "PS2                Grand Theft Auto: Vice City  Action   Rockstar Games   \n",
       "PS2                       Grand Theft Auto III  Action   Rockstar Games   \n",
       "PS2        Metal Gear Solid 2: Sons of Liberty  Action           Konami   \n",
       "PS2      The Lord of the Rings: The Two Towers  Action  Electronic Arts   \n",
       "\n",
       "         critic_score  user_score  total_sales  na_sales  jp_sales  pal_sales  \\\n",
       "console                                                                         \n",
       "PS2               9.5         8.5         2.20      1.10      0.20       0.60   \n",
       "PS2               9.6         8.5        16.15      8.41      0.47       5.49   \n",
       "PS2               9.5         8.5        13.10      6.99      0.30       4.51   \n",
       "PS2               9.5         7.0         6.05      2.45      0.87       2.01   \n",
       "PS2               8.3         8.5         4.67      1.94      0.08       1.95   \n",
       "\n",
       "         other_sales release_date  \n",
       "console                            \n",
       "PS2             0.20   26/10/2004  \n",
       "PS2             1.78   28/10/2002  \n",
       "PS2             1.30   23/10/2001  \n",
       "PS2             0.72   12/11/2001  \n",
       "PS2             0.70   21/10/2002  "
      ]
     },
     "execution_count": 50,
     "metadata": {},
     "output_type": "execute_result"
    }
   ],
   "source": [
    "vgsales_final.head()"
   ]
  },
  {
   "cell_type": "markdown",
   "metadata": {},
   "source": [
    "Loading third dataset for merging later"
   ]
  },
  {
   "cell_type": "code",
   "execution_count": 72,
   "metadata": {},
   "outputs": [],
   "source": [
    "games_sales = pd.read_csv(\"Video_Games.csv\")"
   ]
  },
  {
   "cell_type": "code",
   "execution_count": 73,
   "metadata": {},
   "outputs": [
    {
     "data": {
      "text/html": [
       "<div>\n",
       "<style scoped>\n",
       "    .dataframe tbody tr th:only-of-type {\n",
       "        vertical-align: middle;\n",
       "    }\n",
       "\n",
       "    .dataframe tbody tr th {\n",
       "        vertical-align: top;\n",
       "    }\n",
       "\n",
       "    .dataframe thead th {\n",
       "        text-align: right;\n",
       "    }\n",
       "</style>\n",
       "<table border=\"1\" class=\"dataframe\">\n",
       "  <thead>\n",
       "    <tr style=\"text-align: right;\">\n",
       "      <th></th>\n",
       "      <th>Name</th>\n",
       "      <th>Platform</th>\n",
       "      <th>Year_of_Release</th>\n",
       "      <th>Genre</th>\n",
       "      <th>Publisher</th>\n",
       "      <th>NA_Sales</th>\n",
       "      <th>EU_Sales</th>\n",
       "      <th>JP_Sales</th>\n",
       "      <th>Other_Sales</th>\n",
       "      <th>Global_Sales</th>\n",
       "      <th>Critic_Score</th>\n",
       "      <th>Critic_Count</th>\n",
       "      <th>User_Score</th>\n",
       "      <th>User_Count</th>\n",
       "      <th>Developer</th>\n",
       "      <th>Rating</th>\n",
       "    </tr>\n",
       "  </thead>\n",
       "  <tbody>\n",
       "    <tr>\n",
       "      <th>0</th>\n",
       "      <td>Wii Sports</td>\n",
       "      <td>Wii</td>\n",
       "      <td>2006.0</td>\n",
       "      <td>Sports</td>\n",
       "      <td>Nintendo</td>\n",
       "      <td>41.36</td>\n",
       "      <td>28.96</td>\n",
       "      <td>3.77</td>\n",
       "      <td>8.45</td>\n",
       "      <td>82.53</td>\n",
       "      <td>76.0</td>\n",
       "      <td>51.0</td>\n",
       "      <td>8</td>\n",
       "      <td>322.0</td>\n",
       "      <td>Nintendo</td>\n",
       "      <td>E</td>\n",
       "    </tr>\n",
       "    <tr>\n",
       "      <th>1</th>\n",
       "      <td>Super Mario Bros.</td>\n",
       "      <td>NES</td>\n",
       "      <td>1985.0</td>\n",
       "      <td>Platform</td>\n",
       "      <td>Nintendo</td>\n",
       "      <td>29.08</td>\n",
       "      <td>3.58</td>\n",
       "      <td>6.81</td>\n",
       "      <td>0.77</td>\n",
       "      <td>40.24</td>\n",
       "      <td>NaN</td>\n",
       "      <td>NaN</td>\n",
       "      <td>NaN</td>\n",
       "      <td>NaN</td>\n",
       "      <td>NaN</td>\n",
       "      <td>NaN</td>\n",
       "    </tr>\n",
       "    <tr>\n",
       "      <th>2</th>\n",
       "      <td>Mario Kart Wii</td>\n",
       "      <td>Wii</td>\n",
       "      <td>2008.0</td>\n",
       "      <td>Racing</td>\n",
       "      <td>Nintendo</td>\n",
       "      <td>15.68</td>\n",
       "      <td>12.76</td>\n",
       "      <td>3.79</td>\n",
       "      <td>3.29</td>\n",
       "      <td>35.52</td>\n",
       "      <td>82.0</td>\n",
       "      <td>73.0</td>\n",
       "      <td>8.3</td>\n",
       "      <td>709.0</td>\n",
       "      <td>Nintendo</td>\n",
       "      <td>E</td>\n",
       "    </tr>\n",
       "    <tr>\n",
       "      <th>3</th>\n",
       "      <td>Wii Sports Resort</td>\n",
       "      <td>Wii</td>\n",
       "      <td>2009.0</td>\n",
       "      <td>Sports</td>\n",
       "      <td>Nintendo</td>\n",
       "      <td>15.61</td>\n",
       "      <td>10.93</td>\n",
       "      <td>3.28</td>\n",
       "      <td>2.95</td>\n",
       "      <td>32.77</td>\n",
       "      <td>80.0</td>\n",
       "      <td>73.0</td>\n",
       "      <td>8</td>\n",
       "      <td>192.0</td>\n",
       "      <td>Nintendo</td>\n",
       "      <td>E</td>\n",
       "    </tr>\n",
       "    <tr>\n",
       "      <th>4</th>\n",
       "      <td>Pokemon Red/Pokemon Blue</td>\n",
       "      <td>GB</td>\n",
       "      <td>1996.0</td>\n",
       "      <td>Role-Playing</td>\n",
       "      <td>Nintendo</td>\n",
       "      <td>11.27</td>\n",
       "      <td>8.89</td>\n",
       "      <td>10.22</td>\n",
       "      <td>1.00</td>\n",
       "      <td>31.37</td>\n",
       "      <td>NaN</td>\n",
       "      <td>NaN</td>\n",
       "      <td>NaN</td>\n",
       "      <td>NaN</td>\n",
       "      <td>NaN</td>\n",
       "      <td>NaN</td>\n",
       "    </tr>\n",
       "  </tbody>\n",
       "</table>\n",
       "</div>"
      ],
      "text/plain": [
       "                       Name Platform  Year_of_Release         Genre Publisher  \\\n",
       "0                Wii Sports      Wii           2006.0        Sports  Nintendo   \n",
       "1         Super Mario Bros.      NES           1985.0      Platform  Nintendo   \n",
       "2            Mario Kart Wii      Wii           2008.0        Racing  Nintendo   \n",
       "3         Wii Sports Resort      Wii           2009.0        Sports  Nintendo   \n",
       "4  Pokemon Red/Pokemon Blue       GB           1996.0  Role-Playing  Nintendo   \n",
       "\n",
       "   NA_Sales  EU_Sales  JP_Sales  Other_Sales  Global_Sales  Critic_Score  \\\n",
       "0     41.36     28.96      3.77         8.45         82.53          76.0   \n",
       "1     29.08      3.58      6.81         0.77         40.24           NaN   \n",
       "2     15.68     12.76      3.79         3.29         35.52          82.0   \n",
       "3     15.61     10.93      3.28         2.95         32.77          80.0   \n",
       "4     11.27      8.89     10.22         1.00         31.37           NaN   \n",
       "\n",
       "   Critic_Count User_Score  User_Count Developer Rating  \n",
       "0          51.0          8       322.0  Nintendo      E  \n",
       "1           NaN        NaN         NaN       NaN    NaN  \n",
       "2          73.0        8.3       709.0  Nintendo      E  \n",
       "3          73.0          8       192.0  Nintendo      E  \n",
       "4           NaN        NaN         NaN       NaN    NaN  "
      ]
     },
     "execution_count": 73,
     "metadata": {},
     "output_type": "execute_result"
    }
   ],
   "source": [
    "games_sales.head()"
   ]
  },
  {
   "cell_type": "code",
   "execution_count": 74,
   "metadata": {},
   "outputs": [
    {
     "data": {
      "text/plain": [
       "(16719, 16)"
      ]
     },
     "execution_count": 74,
     "metadata": {},
     "output_type": "execute_result"
    }
   ],
   "source": [
    "games_sales.shape"
   ]
  },
  {
   "cell_type": "code",
   "execution_count": 75,
   "metadata": {},
   "outputs": [
    {
     "data": {
      "text/plain": [
       "6769"
      ]
     },
     "execution_count": 75,
     "metadata": {},
     "output_type": "execute_result"
    }
   ],
   "source": [
    "games_sales[\"Rating\"].isna().sum()"
   ]
  },
  {
   "cell_type": "code",
   "execution_count": 76,
   "metadata": {},
   "outputs": [],
   "source": [
    "games_sales[\"Rating\"].fillna(\"Unknown\", inplace=True)"
   ]
  },
  {
   "cell_type": "code",
   "execution_count": 79,
   "metadata": {},
   "outputs": [
    {
     "data": {
      "text/plain": [
       "0          E\n",
       "1    Unknown\n",
       "2          E\n",
       "3          E\n",
       "4    Unknown\n",
       "Name: Rating, dtype: object"
      ]
     },
     "execution_count": 79,
     "metadata": {},
     "output_type": "execute_result"
    }
   ],
   "source": [
    "games_sales[\"Rating\"].head()"
   ]
  }
 ],
 "metadata": {
  "kernelspec": {
   "display_name": "Python 3",
   "language": "python",
   "name": "python3"
  },
  "language_info": {
   "codemirror_mode": {
    "name": "ipython",
    "version": 3
   },
   "file_extension": ".py",
   "mimetype": "text/x-python",
   "name": "python",
   "nbconvert_exporter": "python",
   "pygments_lexer": "ipython3",
   "version": "3.8.5"
  }
 },
 "nbformat": 4,
 "nbformat_minor": 4
}
